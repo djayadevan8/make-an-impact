{
 "cells": [
  {
   "cell_type": "markdown",
   "metadata": {},
   "source": [
    "<div class=\"alert alert-info\" role=\"alert\">\n",
    "    <center><h1 style=\"color:red;\"><strong>Econometrics 322 Lab #3a</strong></h1></center><br>\n",
    "    <center><h2><strong><color:red>Descriptive Statistics in Econometrics</strong></h2></center><br>\n",
    "</div>\n"
   ]
  },
  {
   "cell_type": "markdown",
   "metadata": {},
   "source": [
    "### Data Dictionary\n"
   ]
  },
  {
   "cell_type": "markdown",
   "metadata": {},
   "source": [
    "| Variable | Values   | Source | Mnemonic |\n",
    "|----------|----------|--------|---------|\n",
    "| State | State name | Defined | State |\n",
    "| Region | Region for State | U.S. Census Bureau Region Map | Region |\n",
    "| Number of Physicians in State | Absolute number in 2009 | U.S. Statistical Abstract, Table 165. Active Physicians and Nurses by State: 2009 | Physicians |\n",
    "| Number of Nurses in State | Absolute number in 2009 | U.S. Statistical Abstract, Table 165. Active Physicians and Nurses by State: 2009 | Nurses |\n",
    "| State Population | Resident population in 2010 | U.S. Census Data.  Change in Resident Population of the 50 States, the District of Columbia, and Puerto Rico: 1910 to 2020 | Population |"
   ]
  },
  {
   "cell_type": "markdown",
   "metadata": {},
   "source": [
    "<div class=\"alert alert-info\" role=\"alert\">\n",
    "</div>"
   ]
  },
  {
   "cell_type": "markdown",
   "metadata": {},
   "source": [
    "### Load the Pandas and Seaborn packages and give them aliases."
   ]
  },
  {
   "cell_type": "code",
   "execution_count": 2,
   "metadata": {},
   "outputs": [],
   "source": [
    "##\n",
    "## Enter the code here\n",
    "##\n",
    "\n",
    "import pandas as pd\n",
    "import seaborn as sns\n",
    "import matplotlib.pyplot as pyplot"
   ]
  },
  {
   "cell_type": "markdown",
   "metadata": {},
   "source": [
    "### Import the lab data.  Set the row index to the state names."
   ]
  },
  {
   "cell_type": "code",
   "execution_count": 3,
   "metadata": {},
   "outputs": [],
   "source": [
    "##\n",
    "## Enter the code here\n",
    "##\n",
    "df = pd.read_csv(\"lab3.csv\",header=0)\n",
    "\n",
    "df.set_index('State', inplace=True)"
   ]
  },
  {
   "cell_type": "markdown",
   "metadata": {},
   "source": [
    "### Print the first five (5) records."
   ]
  },
  {
   "cell_type": "code",
   "execution_count": 84,
   "metadata": {},
   "outputs": [
    {
     "data": {
      "text/html": [
       "<div>\n",
       "<style scoped>\n",
       "    .dataframe tbody tr th:only-of-type {\n",
       "        vertical-align: middle;\n",
       "    }\n",
       "\n",
       "    .dataframe tbody tr th {\n",
       "        vertical-align: top;\n",
       "    }\n",
       "\n",
       "    .dataframe thead th {\n",
       "        text-align: right;\n",
       "    }\n",
       "</style>\n",
       "<table border=\"1\" class=\"dataframe\">\n",
       "  <thead>\n",
       "    <tr style=\"text-align: right;\">\n",
       "      <th></th>\n",
       "      <th>Region</th>\n",
       "      <th>Physicians</th>\n",
       "      <th>Nurses</th>\n",
       "      <th>Population</th>\n",
       "    </tr>\n",
       "    <tr>\n",
       "      <th>State</th>\n",
       "      <th></th>\n",
       "      <th></th>\n",
       "      <th></th>\n",
       "      <th></th>\n",
       "    </tr>\n",
       "  </thead>\n",
       "  <tbody>\n",
       "    <tr>\n",
       "      <th>Alabama</th>\n",
       "      <td>South</td>\n",
       "      <td>10265</td>\n",
       "      <td>42880</td>\n",
       "      <td>4779736</td>\n",
       "    </tr>\n",
       "    <tr>\n",
       "      <th>Alaska</th>\n",
       "      <td>West</td>\n",
       "      <td>1574</td>\n",
       "      <td>5010</td>\n",
       "      <td>710231</td>\n",
       "    </tr>\n",
       "    <tr>\n",
       "      <th>Arizona</th>\n",
       "      <td>West</td>\n",
       "      <td>14051</td>\n",
       "      <td>38570</td>\n",
       "      <td>6392017</td>\n",
       "    </tr>\n",
       "    <tr>\n",
       "      <th>Arkansas</th>\n",
       "      <td>South</td>\n",
       "      <td>5902</td>\n",
       "      <td>23050</td>\n",
       "      <td>2915918</td>\n",
       "    </tr>\n",
       "    <tr>\n",
       "      <th>California</th>\n",
       "      <td>West</td>\n",
       "      <td>100131</td>\n",
       "      <td>233030</td>\n",
       "      <td>37253956</td>\n",
       "    </tr>\n",
       "  </tbody>\n",
       "</table>\n",
       "</div>"
      ],
      "text/plain": [
       "           Region  Physicians  Nurses  Population\n",
       "State                                            \n",
       "Alabama     South       10265   42880     4779736\n",
       "Alaska       West        1574    5010      710231\n",
       "Arizona      West       14051   38570     6392017\n",
       "Arkansas    South        5902   23050     2915918\n",
       "California   West      100131  233030    37253956"
      ]
     },
     "execution_count": 84,
     "metadata": {},
     "output_type": "execute_result"
    }
   ],
   "source": [
    "##\n",
    "## Enter the code here\n",
    "##\n",
    "\n",
    "df.head()"
   ]
  },
  {
   "cell_type": "markdown",
   "metadata": {},
   "source": [
    "### Recall your answer to the question above regarding what you should do to the physician and nurse data before you do any analytical work.  Make the correction here.   \n",
    "\n",
    "### *Be sure to use the corrected data for all the following tasks and analyses.*"
   ]
  },
  {
   "cell_type": "code",
   "execution_count": 85,
   "metadata": {},
   "outputs": [
    {
     "name": "stdout",
     "output_type": "stream",
     "text": [
      "                         Region  Physicians  Nurses  Population  \\\n",
      "State                                                             \n",
      "Alabama                   South       10265   42880     4779736   \n",
      "Alaska                     West        1574    5010      710231   \n",
      "Arizona                    West       14051   38570     6392017   \n",
      "Arkansas                  South        5902   23050     2915918   \n",
      "California                 West      100131  233030    37253956   \n",
      "Colorado                   West       13047   41750     5029196   \n",
      "Connecticut           Northeast       13370   35790     3574097   \n",
      "Delaware                  South        2177   10220      897934   \n",
      "District of Columbia      South        4900    8890      601723   \n",
      "Florida                   South       46645  150940    18801310   \n",
      "Georgia                   South       21269   65370     9687653   \n",
      "Hawaii                     West        4800    8930     1360301   \n",
      "Idaho                      West        2649   10540     1567582   \n",
      "Illinois                Midwest       36528  116340    12830632   \n",
      "Indiana                 Midwest       13938   57880     6483802   \n",
      "Iowa                    Midwest        5696   30750     3046355   \n",
      "Kansas                  Midwest        6436   26320     2853118   \n",
      "Kentucky                  South       10076   43250     4339367   \n",
      "Louisiana                 South       11974   39560     4533372   \n",
      "Maine                 Northeast        3663   14410     1328361   \n",
      "Maryland                  South       24118   51620     5773552   \n",
      "Massachusetts         Northeast       31252   83060     6547629   \n",
      "Michigan                Midwest       25697   84620     9883640   \n",
      "Minnesota               Midwest       15620   57560     5303925   \n",
      "Mississippi               South        5281   28030     2967297   \n",
      "Missouri                Midwest       14789   62130     5988927   \n",
      "Montana                    West        2138    8340      989415   \n",
      "Nebraska                Midwest        4511   18930     1826341   \n",
      "Nevada                     West        4967   16100     2700551   \n",
      "New Hampshire         Northeast        3828   13330     1316470   \n",
      "New Jersey            Northeast       27433   74730     8791894   \n",
      "New Mexico                 West        4877   12340     2059179   \n",
      "New York              Northeast       77042  165730    19378102   \n",
      "North Carolina            South       24072   88190     9535483   \n",
      "North Dakota            Midwest        1617    6260      672591   \n",
      "Ohio                    Midwest       31315  117870    11536504   \n",
      "Oklahoma                  South        6467   27340     3751351   \n",
      "Oregon                     West       10753   30730     3831074   \n",
      "Pennsylvania          Northeast       38676  129810    12702379   \n",
      "Rhode Island          Northeast        4020   11630     1052567   \n",
      "South Carolina            South       10403   38020     4625364   \n",
      "South Dakota            Midwest        1818   10530      814180   \n",
      "Tennessee                 South       16754   61980     6346105   \n",
      "Texas                     South       53546  168020    25145561   \n",
      "Utah                       West        5903   17670     2763885   \n",
      "Vermont               Northeast        2313    5680      625741   \n",
      "Virginia                  South       21931   60230     8001024   \n",
      "Washington                 West       18090   54260     6724540   \n",
      "West Virginia             South        4295   17340     1852994   \n",
      "Wisconsin               Midwest       14816   53510     5686986   \n",
      "Wyoming                    West        1020    4700      563626   \n",
      "\n",
      "                      Corrected Physicians  Corrected Nurses  \n",
      "State                                                         \n",
      "Alabama                           0.002148          0.008971  \n",
      "Alaska                            0.002216          0.007054  \n",
      "Arizona                           0.002198          0.006034  \n",
      "Arkansas                          0.002024          0.007905  \n",
      "California                        0.002688          0.006255  \n",
      "Colorado                          0.002594          0.008302  \n",
      "Connecticut                       0.003741          0.010014  \n",
      "Delaware                          0.002424          0.011382  \n",
      "District of Columbia              0.008143          0.014774  \n",
      "Florida                           0.002481          0.008028  \n",
      "Georgia                           0.002195          0.006748  \n",
      "Hawaii                            0.003529          0.006565  \n",
      "Idaho                             0.001690          0.006724  \n",
      "Illinois                          0.002847          0.009067  \n",
      "Indiana                           0.002150          0.008927  \n",
      "Iowa                              0.001870          0.010094  \n",
      "Kansas                            0.002256          0.009225  \n",
      "Kentucky                          0.002322          0.009967  \n",
      "Louisiana                         0.002641          0.008726  \n",
      "Maine                             0.002758          0.010848  \n",
      "Maryland                          0.004177          0.008941  \n",
      "Massachusetts                     0.004773          0.012686  \n",
      "Michigan                          0.002600          0.008562  \n",
      "Minnesota                         0.002945          0.010852  \n",
      "Mississippi                       0.001780          0.009446  \n",
      "Missouri                          0.002469          0.010374  \n",
      "Montana                           0.002161          0.008429  \n",
      "Nebraska                          0.002470          0.010365  \n",
      "Nevada                            0.001839          0.005962  \n",
      "New Hampshire                     0.002908          0.010126  \n",
      "New Jersey                        0.003120          0.008500  \n",
      "New Mexico                        0.002368          0.005993  \n",
      "New York                          0.003976          0.008552  \n",
      "North Carolina                    0.002524          0.009249  \n",
      "North Dakota                      0.002404          0.009307  \n",
      "Ohio                              0.002714          0.010217  \n",
      "Oklahoma                          0.001724          0.007288  \n",
      "Oregon                            0.002807          0.008021  \n",
      "Pennsylvania                      0.003045          0.010219  \n",
      "Rhode Island                      0.003819          0.011049  \n",
      "South Carolina                    0.002249          0.008220  \n",
      "South Dakota                      0.002233          0.012933  \n",
      "Tennessee                         0.002640          0.009767  \n",
      "Texas                             0.002129          0.006682  \n",
      "Utah                              0.002136          0.006393  \n",
      "Vermont                           0.003696          0.009077  \n",
      "Virginia                          0.002741          0.007528  \n",
      "Washington                        0.002690          0.008069  \n",
      "West Virginia                     0.002318          0.009358  \n",
      "Wisconsin                         0.002605          0.009409  \n",
      "Wyoming                           0.001810          0.008339  \n"
     ]
    }
   ],
   "source": [
    "##\n",
    "## Enter the code here\n",
    "##\n",
    "\n",
    "from operator import truediv\n",
    " \n",
    "list1 = df['Physicians']\n",
    "list2 = df['Population']\n",
    "corrected_physicians = list(map(truediv, list1, list2))\n",
    "\n",
    "list3 = df['Nurses']\n",
    "list4 = df['Population']\n",
    "corrected_nurses = list(map(truediv, list3, list4))\n",
    "\n",
    "df['Corrected Physicians'] = corrected_physicians\n",
    "df['Corrected Nurses'] = corrected_nurses\n",
    "\n",
    "print(df)"
   ]
  },
  {
   "cell_type": "code",
   "execution_count": 122,
   "metadata": {},
   "outputs": [
    {
     "name": "stdout",
     "output_type": "stream",
     "text": [
      "                         Region  Corrected Physicians  Corrected Nurses\n",
      "State                                                                  \n",
      "Alabama                   South              0.002148          0.008971\n",
      "Alaska                     West              0.002216          0.007054\n",
      "Arizona                    West              0.002198          0.006034\n",
      "Arkansas                  South              0.002024          0.007905\n",
      "California                 West              0.002688          0.006255\n",
      "Colorado                   West              0.002594          0.008302\n",
      "Connecticut           Northeast              0.003741          0.010014\n",
      "Delaware                  South              0.002424          0.011382\n",
      "District of Columbia      South              0.008143          0.014774\n",
      "Florida                   South              0.002481          0.008028\n",
      "Georgia                   South              0.002195          0.006748\n",
      "Hawaii                     West              0.003529          0.006565\n",
      "Idaho                      West              0.001690          0.006724\n",
      "Illinois                Midwest              0.002847          0.009067\n",
      "Indiana                 Midwest              0.002150          0.008927\n",
      "Iowa                    Midwest              0.001870          0.010094\n",
      "Kansas                  Midwest              0.002256          0.009225\n",
      "Kentucky                  South              0.002322          0.009967\n",
      "Louisiana                 South              0.002641          0.008726\n",
      "Maine                 Northeast              0.002758          0.010848\n",
      "Maryland                  South              0.004177          0.008941\n",
      "Massachusetts         Northeast              0.004773          0.012686\n",
      "Michigan                Midwest              0.002600          0.008562\n",
      "Minnesota               Midwest              0.002945          0.010852\n",
      "Mississippi               South              0.001780          0.009446\n",
      "Missouri                Midwest              0.002469          0.010374\n",
      "Montana                    West              0.002161          0.008429\n",
      "Nebraska                Midwest              0.002470          0.010365\n",
      "Nevada                     West              0.001839          0.005962\n",
      "New Hampshire         Northeast              0.002908          0.010126\n",
      "New Jersey            Northeast              0.003120          0.008500\n",
      "New Mexico                 West              0.002368          0.005993\n",
      "New York              Northeast              0.003976          0.008552\n",
      "North Carolina            South              0.002524          0.009249\n",
      "North Dakota            Midwest              0.002404          0.009307\n",
      "Ohio                    Midwest              0.002714          0.010217\n",
      "Oklahoma                  South              0.001724          0.007288\n",
      "Oregon                     West              0.002807          0.008021\n",
      "Pennsylvania          Northeast              0.003045          0.010219\n",
      "Rhode Island          Northeast              0.003819          0.011049\n",
      "South Carolina            South              0.002249          0.008220\n",
      "South Dakota            Midwest              0.002233          0.012933\n",
      "Tennessee                 South              0.002640          0.009767\n",
      "Texas                     South              0.002129          0.006682\n",
      "Utah                       West              0.002136          0.006393\n",
      "Vermont               Northeast              0.003696          0.009077\n",
      "Virginia                  South              0.002741          0.007528\n",
      "Washington                 West              0.002690          0.008069\n",
      "West Virginia             South              0.002318          0.009358\n",
      "Wisconsin               Midwest              0.002605          0.009409\n",
      "Wyoming                    West              0.001810          0.008339\n"
     ]
    }
   ],
   "source": [
    "df_new = df[['Region', 'Corrected Physicians', 'Corrected Nurses']].copy()\n",
    "print(df_new)"
   ]
  },
  {
   "cell_type": "markdown",
   "metadata": {},
   "source": [
    "### Create summary statistics for the physician and nurse data."
   ]
  },
  {
   "cell_type": "code",
   "execution_count": 123,
   "metadata": {},
   "outputs": [
    {
     "data": {
      "text/html": [
       "<div>\n",
       "<style scoped>\n",
       "    .dataframe tbody tr th:only-of-type {\n",
       "        vertical-align: middle;\n",
       "    }\n",
       "\n",
       "    .dataframe tbody tr th {\n",
       "        vertical-align: top;\n",
       "    }\n",
       "\n",
       "    .dataframe thead th {\n",
       "        text-align: right;\n",
       "    }\n",
       "</style>\n",
       "<table border=\"1\" class=\"dataframe\">\n",
       "  <thead>\n",
       "    <tr style=\"text-align: right;\">\n",
       "      <th></th>\n",
       "      <th>Corrected Physicians</th>\n",
       "      <th>Corrected Nurses</th>\n",
       "    </tr>\n",
       "  </thead>\n",
       "  <tbody>\n",
       "    <tr>\n",
       "      <th>count</th>\n",
       "      <td>51.000000</td>\n",
       "      <td>51.000000</td>\n",
       "    </tr>\n",
       "    <tr>\n",
       "      <th>mean</th>\n",
       "      <td>0.002721</td>\n",
       "      <td>0.008932</td>\n",
       "    </tr>\n",
       "    <tr>\n",
       "      <th>std</th>\n",
       "      <td>0.001013</td>\n",
       "      <td>0.001842</td>\n",
       "    </tr>\n",
       "    <tr>\n",
       "      <th>min</th>\n",
       "      <td>0.001690</td>\n",
       "      <td>0.005962</td>\n",
       "    </tr>\n",
       "    <tr>\n",
       "      <th>25%</th>\n",
       "      <td>0.002197</td>\n",
       "      <td>0.007963</td>\n",
       "    </tr>\n",
       "    <tr>\n",
       "      <th>50%</th>\n",
       "      <td>0.002481</td>\n",
       "      <td>0.008941</td>\n",
       "    </tr>\n",
       "    <tr>\n",
       "      <th>75%</th>\n",
       "      <td>0.002827</td>\n",
       "      <td>0.010054</td>\n",
       "    </tr>\n",
       "    <tr>\n",
       "      <th>max</th>\n",
       "      <td>0.008143</td>\n",
       "      <td>0.014774</td>\n",
       "    </tr>\n",
       "  </tbody>\n",
       "</table>\n",
       "</div>"
      ],
      "text/plain": [
       "       Corrected Physicians  Corrected Nurses\n",
       "count             51.000000         51.000000\n",
       "mean               0.002721          0.008932\n",
       "std                0.001013          0.001842\n",
       "min                0.001690          0.005962\n",
       "25%                0.002197          0.007963\n",
       "50%                0.002481          0.008941\n",
       "75%                0.002827          0.010054\n",
       "max                0.008143          0.014774"
      ]
     },
     "execution_count": 123,
     "metadata": {},
     "output_type": "execute_result"
    }
   ],
   "source": [
    "##\n",
    "## Enter the code here\n",
    "##\n",
    "\n",
    "df_new.describe()"
   ]
  },
  {
   "cell_type": "markdown",
   "metadata": {},
   "source": [
    "### Plot the physicians by region.  What graph type would you use?"
   ]
  },
  {
   "cell_type": "code",
   "execution_count": 142,
   "metadata": {},
   "outputs": [
    {
     "data": {
      "image/png": "[encoded data removed]",
      "text/plain": [
       "<Figure size 640x480 with 1 Axes>"
      ]
     },
     "metadata": {},
     "output_type": "display_data"
    }
   ],
   "source": [
    "##\n",
    "## Enter the code here\n",
    "## bar graph\n",
    "##\n",
    "\n",
    "\n",
    "region = list(df_new['Region'])\n",
    "physicians = list(df_new['Corrected Physicians'].values)\n",
    "\n",
    "plt.bar(region, physicians, color ='maroon',\n",
    "        width = 0.4)\n",
    "\n",
    "plt.xlabel(\"Region\")\n",
    "plt.ylabel(\"Number of Physicians Per Capita\")\n",
    "\n",
    "plt.show()"
   ]
  },
  {
   "cell_type": "markdown",
   "metadata": {},
   "source": [
    "### Plot the nurses by region.  What graph type would you use?"
   ]
  },
  {
   "cell_type": "code",
   "execution_count": 141,
   "metadata": {},
   "outputs": [
    {
     "data": {
      "image/png": "[encoded data removed]",
      "text/plain": [
       "<Figure size 640x480 with 1 Axes>"
      ]
     },
     "metadata": {},
     "output_type": "display_data"
    }
   ],
   "source": [
    "##\n",
    "## Enter the code here\n",
    "## bar graph\n",
    "##\n",
    "\n",
    "region = list(df_new['Region'])\n",
    "nurses = list(df_new['Corrected Nurses'].values)\n",
    "\n",
    "plt.bar(region, nurses, color ='maroon',\n",
    "        width = 0.4)\n",
    "\n",
    "plt.xlabel(\"Region\")\n",
    "plt.ylabel(\"Number of Nurses Per Capita\")\n",
    "\n",
    "plt.show()"
   ]
  },
  {
   "cell_type": "markdown",
   "metadata": {},
   "source": [
    "### Plot a histogram and boxplot of physicians."
   ]
  },
  {
   "cell_type": "code",
   "execution_count": 96,
   "metadata": {},
   "outputs": [
    {
     "data": {
      "text/plain": [
       "Text(0, 0.5, 'Frequency')"
      ]
     },
     "execution_count": 96,
     "metadata": {},
     "output_type": "execute_result"
    },
    {
     "data": {
      "image/png": "[encoded data removed]",
      "text/plain": [
       "<Figure size 640x480 with 1 Axes>"
      ]
     },
     "metadata": {},
     "output_type": "display_data"
    }
   ],
   "source": [
    "##\n",
    "## Enter the code here\n",
    "##\n",
    "\n",
    "df_new['Corrected Physicians'].hist()\n",
    "pyplot.title(\"Physicians Per Capita Histogram\")\n",
    "pyplot.xlabel(\"Physicians Per Capita\")\n",
    "pyplot.ylabel(\"Frequency\")\n"
   ]
  },
  {
   "cell_type": "code",
   "execution_count": 101,
   "metadata": {},
   "outputs": [
    {
     "data": {
      "text/plain": [
       "Text(0.5, 0, 'Physicians Per Capita')"
      ]
     },
     "execution_count": 101,
     "metadata": {},
     "output_type": "execute_result"
    },
    {
     "data": {
      "image/png": "[encoded data removed]",
      "text/plain": [
       "<Figure size 640x480 with 1 Axes>"
      ]
     },
     "metadata": {},
     "output_type": "display_data"
    }
   ],
   "source": [
    "##\n",
    "## Enter the code here\n",
    "##\n",
    "\n",
    "pyplot.boxplot(df_new['Corrected Physicians'])\n",
    "pyplot.title('Boxplot of Physicians Per Capita')\n",
    "pyplot.xlabel('Physicians Per Capita')"
   ]
  },
  {
   "cell_type": "markdown",
   "metadata": {},
   "source": [
    "### Plot a histogram and boxplot of nurses."
   ]
  },
  {
   "cell_type": "code",
   "execution_count": 95,
   "metadata": {},
   "outputs": [
    {
     "data": {
      "text/plain": [
       "Text(0, 0.5, 'Frequency')"
      ]
     },
     "execution_count": 95,
     "metadata": {},
     "output_type": "execute_result"
    },
    {
     "data": {
      "image/png": "[encoded data removed]",
      "text/plain": [
       "<Figure size 640x480 with 1 Axes>"
      ]
     },
     "metadata": {},
     "output_type": "display_data"
    }
   ],
   "source": [
    "##\n",
    "## Enter the code here\n",
    "##\n",
    "\n",
    "df_new['Corrected Nurses'].hist()\n",
    "pyplot.title(\"Nurses Per Capita Histogram\")\n",
    "pyplot.xlabel(\"Nurses Per Capita\")\n",
    "pyplot.ylabel(\"Frequency\")\n"
   ]
  },
  {
   "cell_type": "code",
   "execution_count": 102,
   "metadata": {},
   "outputs": [
    {
     "data": {
      "text/plain": [
       "Text(0.5, 0, 'Nurses Per Capita')"
      ]
     },
     "execution_count": 102,
     "metadata": {},
     "output_type": "execute_result"
    },
    {
     "data": {
      "image/png": "[encoded data removed]",
      "text/plain": [
       "<Figure size 640x480 with 1 Axes>"
      ]
     },
     "metadata": {},
     "output_type": "display_data"
    }
   ],
   "source": [
    "##\n",
    "## Enter the code here\n",
    "##\n",
    "\n",
    "pyplot.boxplot(df_new['Corrected Nurses'])\n",
    "pyplot.title('Boxplot of Nurses Per Capita')\n",
    "pyplot.xlabel('Nurses Per Capita')"
   ]
  },
  {
   "cell_type": "markdown",
   "metadata": {},
   "source": [
    "### Print and graph a correlation matrix.  Use your corrected physicians and nurses data.  Do NOT include the state and regions designations. "
   ]
  },
  {
   "cell_type": "code",
   "execution_count": 81,
   "metadata": {
    "scrolled": true
   },
   "outputs": [
    {
     "data": {
      "text/html": [
       "<div>\n",
       "<style scoped>\n",
       "    .dataframe tbody tr th:only-of-type {\n",
       "        vertical-align: middle;\n",
       "    }\n",
       "\n",
       "    .dataframe tbody tr th {\n",
       "        vertical-align: top;\n",
       "    }\n",
       "\n",
       "    .dataframe thead th {\n",
       "        text-align: right;\n",
       "    }\n",
       "</style>\n",
       "<table border=\"1\" class=\"dataframe\">\n",
       "  <thead>\n",
       "    <tr style=\"text-align: right;\">\n",
       "      <th></th>\n",
       "      <th>Corrected Physicians</th>\n",
       "      <th>Corrected Nurses</th>\n",
       "      <th>Population</th>\n",
       "    </tr>\n",
       "  </thead>\n",
       "  <tbody>\n",
       "    <tr>\n",
       "      <th>Corrected Physicians</th>\n",
       "      <td>1.000000</td>\n",
       "      <td>0.555634</td>\n",
       "      <td>-0.005028</td>\n",
       "    </tr>\n",
       "    <tr>\n",
       "      <th>Corrected Nurses</th>\n",
       "      <td>0.555634</td>\n",
       "      <td>1.000000</td>\n",
       "      <td>-0.276614</td>\n",
       "    </tr>\n",
       "    <tr>\n",
       "      <th>Population</th>\n",
       "      <td>-0.005028</td>\n",
       "      <td>-0.276614</td>\n",
       "      <td>1.000000</td>\n",
       "    </tr>\n",
       "  </tbody>\n",
       "</table>\n",
       "</div>"
      ],
      "text/plain": [
       "                      Corrected Physicians  Corrected Nurses  Population\n",
       "Corrected Physicians              1.000000          0.555634   -0.005028\n",
       "Corrected Nurses                  0.555634          1.000000   -0.276614\n",
       "Population                       -0.005028         -0.276614    1.000000"
      ]
     },
     "execution_count": 81,
     "metadata": {},
     "output_type": "execute_result"
    }
   ],
   "source": [
    "##\n",
    "## Enter the code here\n",
    "##\n",
    "\n",
    "df_new.corr(numeric_only=True)"
   ]
  },
  {
   "cell_type": "markdown",
   "metadata": {},
   "source": [
    "<div class=\"alert alert-info\" role=\"alert\">\n",
    "</div>"
   ]
  },
  {
   "cell_type": "code",
   "execution_count": null,
   "metadata": {},
   "outputs": [],
   "source": []
  }
 ],
 "metadata": {
  "kernelspec": {
   "display_name": "Python 3 (ipykernel)",
   "language": "python",
   "name": "python3"
  },
  "language_info": {
   "codemirror_mode": {
    "name": "ipython",
    "version": 3
   },
   "file_extension": ".py",
   "mimetype": "text/x-python",
   "name": "python",
   "nbconvert_exporter": "python",
   "pygments_lexer": "ipython3",
   "version": "3.10.9"
  }
 },
 "nbformat": 4,
 "nbformat_minor": 2
}
